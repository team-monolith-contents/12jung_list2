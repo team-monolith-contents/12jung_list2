{
 "cells": [
  {
   "cell_type": "markdown",
   "id": "01990a10-e9b5-483c-a00a-8657001d40f8",
   "metadata": {
    "deletable": false,
    "editable": false
   },
   "source": [
    "## **리스트 관련 함수 사용하기**\n",
    "함수 | 기능 \n",
    "---|---\n",
    "리스트명.append(데이터)| 데이터를 리스트의 마지막에 추가합니다.| \n",
    "리스트명.insert(index, 데이터) |데이터를 list의 해당 index에 삽입합니다.\n",
    "리스트명.remove(데이터)| 리스트에서 데이터 값을 삭제합니다. 같은 데이터가 여러 개라면 가장 처음 데이터를 삭제합니다. \n",
    "리스트명.reverse()| 리스트의 값을 역순으로 정렬합니다. \n",
    "리스트명.sort()| 리스트의 값을 오름차순으로 정렬합니다. (문자열은 사전순으로 정렬합니다.)\n"
   ]
  },
  {
   "cell_type": "markdown",
   "id": "6c0548c7-c3c2-4417-8526-355e9f63111b",
   "metadata": {
    "deletable": false,
    "editable": false
   },
   "source": [
    "#### **예제 4 : 리스트 관련 함수 사용해보기**"
   ]
  },
  {
   "cell_type": "code",
   "execution_count": null,
   "id": "34925c0a-143e-4fa1-bddb-a185cbda92cc",
   "metadata": {
    "tags": [
     "jce.problems.3단원.3단원-예제5"
    ]
   },
   "outputs": [],
   "source": [
    "#예제_4_리스트_관련_함수_사용해보기\n",
    "a = [3,7,4,2,5,3]\n",
    "a.append(8)\n",
    "print(\"append 함수 테스트 a값 출력 : \" ,a)\n",
    "\n",
    "a.insert(2,10)\n",
    "print(\"insert 함수 테스트 a값 출력 : \" ,a)\n",
    "\n",
    "a.remove(3)\n",
    "print(\"remove 함수 테스트 a값 출력 : \" ,a)\n",
    "\n",
    "a.reverse()\n",
    "print(\"reverse 함수 테스트 a값 출력 : \" ,a)\n",
    "\n",
    "a.sort()\n",
    "print(\"sort 함수 테스트 a값 출력 : \" ,a)"
   ]
  },
  {
   "cell_type": "markdown",
   "id": "85f929b2-17af-421b-b2c4-b6af981463bc",
   "metadata": {
    "deletable": false,
    "editable": false
   },
   "source": [
    "## **input 함수로 list 입력받기**"
   ]
  },
  {
   "cell_type": "markdown",
   "id": "03810704-c3de-43a2-9633-2c640e002849",
   "metadata": {
    "deletable": false,
    "editable": false
   },
   "source": [
    "### **리스트 입력받기1: 1개의 데이터**\n",
    "1개의 값을 리스트로 입력 받을 때에는 다음과 같은 순서로 진행됩니다. \n",
    "1. 빈 리스트 생성\n",
    "2. input 함수로 입력값을 받아 새로운 변수에 저장 \n",
    "3. append 함수로 입력값을 리스트에 추가\n"
   ]
  },
  {
   "cell_type": "markdown",
   "id": "89a6981d-f218-459d-8fab-e765433131d0",
   "metadata": {
    "deletable": false,
    "editable": false
   },
   "source": [
    "#### **예제 5 : 1개의 값을 리스트에 저장하기**"
   ]
  },
  {
   "cell_type": "code",
   "execution_count": null,
   "id": "6b63c317-357f-4f93-873b-52d35f55f8f7",
   "metadata": {
    "tags": [
     "jce.problems.3단원.3단원-예제6"
    ]
   },
   "outputs": [],
   "source": [
    "#예제_5_1개의_값을_리스트에_저장하기\n",
    "sample_list= []  # 빈 리스트 생성\n",
    "n = int(input('숫자를 입력하세요: '))   \n",
    "sample_list.append(n)\n",
    "\n",
    "print(sample_list)"
   ]
  },
  {
   "cell_type": "markdown",
   "id": "4d5c8a17-d56c-4dcb-bdb9-9b95ffcbb377",
   "metadata": {
    "deletable": false,
    "editable": false
   },
   "source": [
    "### **리스트 입력받기2: 여러 개의 문자열 데이터**\n",
    "* input().split() 함수를 활용하면 여러 개의 데이터를 리스트로 입력받을 수 있습니다.  \n",
    "* `input().split()` : 입력된 문자열을 공백을 기준으로 나누어 리스트로 반환합니다. \n"
   ]
  },
  {
   "cell_type": "markdown",
   "id": "21c5c284-9584-41a9-a189-a119d5731119",
   "metadata": {
    "deletable": false,
    "editable": false
   },
   "source": [
    "#### **예제 6 : 여러 개의 문자열을 리스트에 저장하기**"
   ]
  },
  {
   "cell_type": "code",
   "execution_count": null,
   "id": "20787977-cce4-4530-b989-7f94acd09c47",
   "metadata": {
    "tags": [
     "jce.problems.3단원.3단원-예제7"
    ]
   },
   "outputs": [],
   "source": [
    "#예제_6_여러_개의_문자열을_리스트에_저장하기 \n",
    "n = input().split()\n",
    "print(n) "
   ]
  },
  {
   "cell_type": "markdown",
   "id": "cf26fedf-ba67-4d18-a1b6-51ed4e98a64d",
   "metadata": {
    "deletable": false,
    "editable": false
   },
   "source": [
    "### **리스트 입력받기3: 여러 개의 정수형 데이터**\n",
    "* 예제 6에서 입력값은 string(문자열)의 형태로 리스트에 저장됩니다. \n",
    "* 만일 int 형으로 저장하고 싶다면, map 함수를 사용해야 합니다.  \n",
    "* `map(함수, 리스트)` : 주어진 함수를 리스트의 모든 요소에 적용시키는 함수 \n",
    "* map()함수는 처리 결과를 list로 반환하지 않기 때문에 자료형을 강제로 list로 변환해주어야 합니다. "
   ]
  },
  {
   "cell_type": "markdown",
   "id": "aa1d2c59-6e66-4bbf-a2aa-d470ad696cd0",
   "metadata": {
    "deletable": false,
    "editable": false
   },
   "source": [
    "#### **예제 7 : 여러 개의 정수형 데이터를 리스트로 입력 받기**"
   ]
  },
  {
   "cell_type": "code",
   "execution_count": null,
   "id": "197ea538-bbba-4a1c-81aa-2a1c94d2a4b3",
   "metadata": {
    "tags": [
     "jce.problems.3단원.3단원-예제8"
    ]
   },
   "outputs": [],
   "source": [
    "#예제_7_여러_개의_정수형_데이터를_리스트로_입력받기\n",
    "int_list = list(map(int, input(\"숫자를 입력하세요!\").split()))\n",
    "    # input().split() 으로 입력받은 리스트의 요소들에 int() 함수가 적용되어 map자료로 반환된 결과를 list 자료형으로 변환해주는 코드입니다. \n",
    "\n",
    "print(int_list)"
   ]
  },
  {
   "cell_type": "markdown",
   "id": "1608fc30-c956-4600-8c35-099604c0ed37",
   "metadata": {
    "deletable": false,
    "editable": false
   },
   "source": [
    "#### 예제 7 해설\n",
    "> `list(map(int, input(\"숫자를 입력하세요!\").split()))` 함수는 세 부분으로 나누어볼 수 있습니다.  \n",
    ">\n",
    "> ✏️ `A = input(\"숫자를 입력하세요!\").split()`는   \n",
    "> 입력된 문자열을 공백을 기준으로 나누어 리스트로 반환합니다.   \n",
    "(이때 반환한 리스트를 A라고 해봅시다.)  \n",
    ">\n",
    "> ✏️ `map(int, input(\"숫자를 입력하세요!\").split())` 는   \n",
    "위의 리스트 A를 대입하면 `map(int, A)`로 정리될 수 있습니다.   \n",
    "즉 입력값을 공백으로 나누어 반환한 리스트의 모든 요소에 int()함수를 적용하는 것입니다.  \n",
    ">\n",
    "> ✏️`list(map(int, A))`는 정수형으로 변환된 데이터들을 list로 묶어줍니다. \n"
   ]
  },
  {
   "cell_type": "markdown",
   "id": "c1497b18-3f10-4e48-b281-7a9d4bb2e1dc",
   "metadata": {
    "deletable": false,
    "editable": false
   },
   "source": [
    "### **💯 연습문제를 풀어봅시다**\n",
    "1. <a class=\"jcecodle-mk jcecodle-mk__problem-chip\" data-problem-id=\"V55VcIsKPio\" href='#jce-judge/open/V55VcIsKPio' target='_self'><span>리스트 값 수정1_빈칸</span></a>\n",
    "\n",
    "3. <a class=\"jcecodle-mk jcecodle-mk__problem-chip\" data-problem-id=\"pjctcNRCQnA\" href='#jce-judge/open/pjctcNRCQnA' target='_self'><span>리스트 값 수정2_빈칸</span></a>\n",
    "\n",
    "5. <a class=\"jcecodle-mk jcecodle-mk__problem-chip\" data-problem-id=\"209\" href='#jce-judge/open/209' target='_self'><span>List 기본 문제 1</span></a>\n",
    "6. <a class=\"jcecodle-mk jcecodle-mk__problem-chip\" data-problem-id=\"xyJ3ZdccCDQ\" href='#jce-judge/open/xyJ3ZdccCDQ' target='_self'><span>리스트 요소</span></a>\n"
   ]
  },
  {
   "cell_type": "markdown",
   "id": "18d5ff94-701a-4a71-b308-bcc6d4fc54ad",
   "metadata": {
    "deletable": false,
    "editable": false
   },
   "source": [
    "## **리스트와 함께 쓰이는 함수**\n",
    "\n",
    "함수 | 기능 \n",
    "---|---\n",
    "max(리스트명)| 리스트 내부에서 최대값을 찾아줍니다.| \n",
    "min(리스트명)| 리스트 내부에서 최소값을 찾아줍니다. \n",
    "sum(리스트명)| 리스트 내부 모든 값들의 합을 구해줍니다.\n",
    "len(리스트명)| 리스트 요소의 갯수를 반환합니다.  "
   ]
  },
  {
   "cell_type": "markdown",
   "id": "dda6cdb5-044b-478f-b996-04a4f928f7fc",
   "metadata": {
    "deletable": false,
    "editable": false
   },
   "source": [
    "### **💯 연습문제를 풀어봅시다**\n",
    "\n",
    "1. <a class=\"jcecodle-mk jcecodle-mk__problem-chip\" data-problem-id=\"210\" href='#jce-judge/open/210' target='_self'><span>List 기본 문제 2 (최대값 출력하기)</span></a>\n",
    "2. <a class=\"jcecodle-mk jcecodle-mk__problem-chip\" data-problem-id=\"211\" href='#jce-judge/open/211' target='_self'><span>List 기본 문제 3 (최대값, 최소값 합 구하기)</span></a>\n"
   ]
  }
 ],
 "metadata": {
  "kernelspec": {
   "display_name": "Python 3 (ipykernel)",
   "language": "python",
   "name": "python3"
  },
  "language_info": {
   "codemirror_mode": {
    "name": "ipython",
    "version": 3
   },
   "file_extension": ".py",
   "mimetype": "text/x-python",
   "name": "python",
   "nbconvert_exporter": "python",
   "pygments_lexer": "ipython3",
   "version": "3.10.13"
  },
  "read_only": true
 },
 "nbformat": 4,
 "nbformat_minor": 5
}
